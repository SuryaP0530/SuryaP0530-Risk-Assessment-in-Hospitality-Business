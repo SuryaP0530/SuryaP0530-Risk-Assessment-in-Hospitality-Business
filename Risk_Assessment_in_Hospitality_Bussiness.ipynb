{
  "nbformat": 4,
  "nbformat_minor": 0,
  "metadata": {
    "colab": {
      "name": "Risk Assessment in Hospitality Bussiness",
      "provenance": [],
      "collapsed_sections": []
    },
    "kernelspec": {
      "name": "python3",
      "display_name": "Python 3"
    },
    "language_info": {
      "name": "python"
    }
  },
  "cells": [
    {
      "cell_type": "markdown",
      "metadata": {
        "id": "mCfkWVKvn4gn"
      },
      "source": [
        "## **Risk Assessment in Hospitality Bussiness**"
      ]
    },
    {
      "cell_type": "markdown",
      "metadata": {
        "id": "6tYd2eTHaCwC"
      },
      "source": [
        "# **BUSINESS PROBLEM**\n",
        "\n",
        "**Abstract:**\n",
        "The hospitality business is a multibillion-dollar industry focussed on availability of leisurely needs, disposable income and complete customer satisfaction besides other facilities. Customer satisfaction and loyalty is a pivotal element in determining their performance and business growth. With the availability of various platforms for customers to express their views,the feedback and judgements are easily available. On gathering insights from the opinions shared can mitigate the severity of risk involved and deliver last mile alertness to the decision maker in transforming the business process.\n",
        "\n",
        "**Objective:**\n",
        "The objective is to analyze the text based comments made by the users in various platforms and bulid ML driven classification model to understand the sentiments of customer (satisfied or not) encompassing the users view to deliver a last mile alertness to the decision maker.\n",
        "\n",
        "**DATA OVERVIEW:**\n",
        "\n",
        "The dataset consisted of\n",
        "*   Text based comments\n",
        "*   The associated binary labels (represting satisified and unsatisfied)\n",
        "\n",
        "\n"
      ]
    },
    {
      "cell_type": "markdown",
      "metadata": {
        "id": "b6y6c9jGkJn4"
      },
      "source": [
        "### **IMPORTING LIBRARIES**"
      ]
    },
    {
      "cell_type": "code",
      "metadata": {
        "id": "-V596atJZ__Q"
      },
      "source": [
        "import numpy as np \n",
        "import pandas as pd\n",
        "import matplotlib.pyplot as plt\n",
        "import seaborn as sns"
      ],
      "execution_count": null,
      "outputs": []
    },
    {
      "cell_type": "markdown",
      "metadata": {
        "id": "LgVpKMs_kQAO"
      },
      "source": [
        "### **IMPORTING THE DATA**"
      ]
    },
    {
      "cell_type": "code",
      "metadata": {
        "id": "HmpyKwTW_xGB"
      },
      "source": [
        " df = pd.read_csv('/content/Risk Assessment.tsv', delimiter = '\\t')"
      ],
      "execution_count": null,
      "outputs": []
    },
    {
      "cell_type": "code",
      "metadata": {
        "colab": {
          "base_uri": "https://localhost:8080/",
          "height": 204
        },
        "id": "xwXibyXp_to2",
        "outputId": "0ac93993-a3a5-41ef-9acd-d64f24ed6202"
      },
      "source": [
        "#displaying the first five rows of the dataframe \n",
        "df.head(5)"
      ],
      "execution_count": null,
      "outputs": [
        {
          "output_type": "execute_result",
          "data": {
            "text/html": [
              "<div>\n",
              "<style scoped>\n",
              "    .dataframe tbody tr th:only-of-type {\n",
              "        vertical-align: middle;\n",
              "    }\n",
              "\n",
              "    .dataframe tbody tr th {\n",
              "        vertical-align: top;\n",
              "    }\n",
              "\n",
              "    .dataframe thead th {\n",
              "        text-align: right;\n",
              "    }\n",
              "</style>\n",
              "<table border=\"1\" class=\"dataframe\">\n",
              "  <thead>\n",
              "    <tr style=\"text-align: right;\">\n",
              "      <th></th>\n",
              "      <th>Review</th>\n",
              "      <th>Liked</th>\n",
              "    </tr>\n",
              "  </thead>\n",
              "  <tbody>\n",
              "    <tr>\n",
              "      <th>0</th>\n",
              "      <td>Wow... Loved this place.</td>\n",
              "      <td>1</td>\n",
              "    </tr>\n",
              "    <tr>\n",
              "      <th>1</th>\n",
              "      <td>Crust is not good.</td>\n",
              "      <td>0</td>\n",
              "    </tr>\n",
              "    <tr>\n",
              "      <th>2</th>\n",
              "      <td>Not tasty and the texture was just nasty.</td>\n",
              "      <td>0</td>\n",
              "    </tr>\n",
              "    <tr>\n",
              "      <th>3</th>\n",
              "      <td>Stopped by during the late May bank holiday of...</td>\n",
              "      <td>1</td>\n",
              "    </tr>\n",
              "    <tr>\n",
              "      <th>4</th>\n",
              "      <td>The selection on the menu was great and so wer...</td>\n",
              "      <td>1</td>\n",
              "    </tr>\n",
              "  </tbody>\n",
              "</table>\n",
              "</div>"
            ],
            "text/plain": [
              "                                              Review  Liked\n",
              "0                           Wow... Loved this place.      1\n",
              "1                                 Crust is not good.      0\n",
              "2          Not tasty and the texture was just nasty.      0\n",
              "3  Stopped by during the late May bank holiday of...      1\n",
              "4  The selection on the menu was great and so wer...      1"
            ]
          },
          "metadata": {},
          "execution_count": 3
        }
      ]
    },
    {
      "cell_type": "markdown",
      "metadata": {
        "id": "JJ7YWV1NlBOZ"
      },
      "source": [
        "### **CHECKING THE DATA TYPES**"
      ]
    },
    {
      "cell_type": "code",
      "metadata": {
        "colab": {
          "base_uri": "https://localhost:8080/"
        },
        "id": "hUuWPItck3RU",
        "outputId": "34fbe73b-e480-4985-a93a-6fe5e7053dad"
      },
      "source": [
        "df.dtypes"
      ],
      "execution_count": null,
      "outputs": [
        {
          "output_type": "execute_result",
          "data": {
            "text/plain": [
              "Review    object\n",
              "Liked      int64\n",
              "dtype: object"
            ]
          },
          "metadata": {},
          "execution_count": 4
        }
      ]
    },
    {
      "cell_type": "markdown",
      "metadata": {
        "id": "nDFPypCZlI_S"
      },
      "source": [
        "**Features:** \n",
        "1.   Text: Review \n",
        "\n",
        "**Target Variable:** \n",
        "1.   Categorical: Liked     "
      ]
    },
    {
      "cell_type": "markdown",
      "metadata": {
        "id": "K-N5oc1zo2SM"
      },
      "source": [
        "## **CHECKING FOR CLASS IMBALANCE** \n",
        "\n",
        "If there exists class imbalance, number of instances in each class should be balanced. "
      ]
    },
    {
      "cell_type": "code",
      "metadata": {
        "id": "DGNzXgeuAQ5S"
      },
      "source": [
        "unique = df['Liked'].value_counts()"
      ],
      "execution_count": null,
      "outputs": []
    },
    {
      "cell_type": "code",
      "metadata": {
        "colab": {
          "base_uri": "https://localhost:8080/",
          "height": 303
        },
        "id": "_XOFyu1oATZJ",
        "outputId": "90f43d6e-9a7e-40ae-a54a-a4a0ad8af730"
      },
      "source": [
        "plt.figure(figsize=(5, 5))\n",
        "lab = ['Satisfied','Unsatisfied']\n",
        "myexplode = [0.01, 0]\n",
        "plt.pie(unique,labels = lab, explode = myexplode,startangle=90)\n",
        "plt.legend()\n",
        "plt.show()"
      ],
      "execution_count": null,
      "outputs": [
        {
          "output_type": "display_data",
          "data": {
            "image/png": "[encoded data removed]",
            "text/plain": [
              "<Figure size 360x360 with 1 Axes>"
            ]
          },
          "metadata": {}
        }
      ]
    },
    {
      "cell_type": "markdown",
      "metadata": {
        "id": "7OQvl2cDqZ-z"
      },
      "source": [
        "The number of observations (both positive and negative comments) were found to be equal. "
      ]
    },
    {
      "cell_type": "markdown",
      "metadata": {
        "id": "mZamUmdbfvhd"
      },
      "source": [
        "### **Feature Engineering**"
      ]
    },
    {
      "cell_type": "markdown",
      "metadata": {
        "id": "lwm4I7qtf4lz"
      },
      "source": [
        "**Re (regex) library:** A Regular Expression (RegEx) is a sequence of characters that defines a search pattern.\n",
        "\n",
        "**Natural Language Processing Tool kit (nltk):** A library for building Python programs to work with human language data, text processing libraries for classification, tokenization, stemming, tagging, parsing, and semantic reasoning"
      ]
    },
    {
      "cell_type": "code",
      "metadata": {
        "id": "ORolr6z1LbbS"
      },
      "source": [
        "import re         #regular expression \n",
        "import nltk       #natural language tool kit"
      ],
      "execution_count": null,
      "outputs": []
    },
    {
      "cell_type": "code",
      "metadata": {
        "colab": {
          "base_uri": "https://localhost:8080/"
        },
        "id": "OpR_uVFXRwdr",
        "outputId": "af4d5237-98a1-409e-a6ff-1d30ba62007c"
      },
      "source": [
        "#downloads stopwords from nltk library  \n",
        "from nltk.corpus import stopwords \n",
        "nltk.download(\"stopwords\")    \n",
        "\n",
        "#importing porter stemmer module for stemming \n",
        "from nltk.stem.porter import PorterStemmer "
      ],
      "execution_count": null,
      "outputs": [
        {
          "output_type": "stream",
          "name": "stdout",
          "text": [
            "[nltk_data] Downloading package stopwords to /root/nltk_data...\n",
            "[nltk_data]   Unzipping corpora/stopwords.zip.\n"
          ]
        }
      ]
    },
    {
      "cell_type": "markdown",
      "metadata": {
        "id": "jG2XVD3agcQU"
      },
      "source": [
        " \n",
        "\n",
        "1.    **Importing Stopwords from NLTK Corpus**:\n",
        "*   Downloads Stop Words NLTK corpus package\n",
        "(Corpus package provide functions that can be used to read corpus files.) \n",
        "\n",
        "    A corpus can be defined as a collection of text documents\n",
        "\n",
        "*   Stop Words are commonly used words (such as “the”, “a”, “an”, “in” etc..).\n",
        "*   We don't want these words to take up space in our database, or taking up valuable processing time. NLTK Toolkit in python has a list of stopwords stored in 16 different languages. We remove them easily by storing a list of words of the considered language.\n",
        "\n",
        "\n",
        "2.   **Importing Porter Stemmer Module**:  The porter stemmer module removes common morphological and inflexional endings from words in English. Mainly used when setting up Information Retrieval systems."
      ]
    },
    {
      "cell_type": "code",
      "metadata": {
        "id": "XZlEBMkaRjjF"
      },
      "source": [
        "#declared empty list to collect all the pre-processed text  \n",
        "corpus=[] \n",
        "\n",
        "for i in range(0,1000):\n",
        "\n",
        "  #retaining all the none characters by space \n",
        "  review = re.sub('[^a-zA-Z]',' ', df['Review'][i])\n",
        "  \n",
        "  #converting to lower case and splitting\n",
        "  review = review.lower()\n",
        "\n",
        "  #splits strings into an array of substrings\n",
        "  review = review.split()\n",
        "  #creating the object of the porterstemmer class\n",
        "  ps=PorterStemmer()\n",
        "\n",
        "  #collecting all english stopwords\n",
        "  all_stopwords=stopwords.words('english') \n",
        "\n",
        "  #remove stopword \"not\" from the ennglish stopwords\n",
        "  all_stopwords.remove('not') \n",
        "\n",
        "  #tokenizing and stemming words to the root words\n",
        "  review=[ps.stem(word) for word in review if not word in set(all_stopwords)]\n",
        "\n",
        "  #list of words is converted into sentence using join function \n",
        "  review=' '.join(review)\n",
        "  corpus.append(review)\n",
        "  "
      ],
      "execution_count": null,
      "outputs": []
    },
    {
      "cell_type": "markdown",
      "metadata": {
        "id": "0zQe_xIHmK0Q"
      },
      "source": [
        "*   **Initializing Corpus Array**: An empty Corpus array is initialized, to store large and structured set of machine-readable texts that is generated after text pre-processing techniques.\n",
        "\n",
        "*   Created a for loop to pass all the text contained in the dataset to undergo a series of text-mining \n",
        "\n",
        "*   **re.sub():** The re.sub() function is used to replace occurrences of a none characters with white space. \n",
        "*   **lower():** Convert all the alphabets to lower case letters.\n",
        "*   **Split():** Split the text based sentences into array of substrings. \n",
        "*   **Porter stemmer class():** Created the object solely for the purpose of tokenizing and stemming.\n",
        "\n",
        "*   **Stopwords:**: All the stopwords of english language is stored under a variable (`all_stopwords`) except the word 'not' being removed.  \n",
        "\n",
        "*   **Tokenization:** essentially splits up a sentence or an entire text document into smaller units, such as individual words or terms. Each of these smaller units are called tokens. These tokens are considered as a first step for stemming, which at a later stages in the process act as a vector representing the document.\n",
        "\n",
        "    Ex: Natural language processing (NLP) is a field of computer science\n",
        "\n",
        "  `[‘Natural’, ‘language’, ‘processing’, ‘(‘, ‘NLP’, ‘)’, ‘is’, ‘a’, ‘field’, ‘of’, ‘computer’, ‘science’]`\n",
        "\n",
        "*   **Stemming:** Stemming is the process of producing morphological variants of a root/base word. A stemming algorithm reduces the words to the root word thereby reducing the redundancy and processing time. \n",
        "\n",
        "  Ex: The steeming process for the root word 'play' includes derived words\n",
        "              ['playing', 'played', 'plays'] \n",
        "              \n",
        "    The derived words are replaced by root. In our example, the word \"playing\", \"played\" or \"plays\" is replaced by the word play.\n",
        "\n",
        "The text pre-processed output is finally appended in corpus array initialized earlier.\n"
      ]
    },
    {
      "cell_type": "markdown",
      "metadata": {
        "id": "wZ39_dhgwjqC"
      },
      "source": [
        "### **Creating Bag of Words Model** "
      ]
    },
    {
      "cell_type": "code",
      "metadata": {
        "id": "BCk2G7DNR5ma"
      },
      "source": [
        "#importing Countvectorizer module\n",
        "from sklearn.feature_extraction.text import CountVectorizer\n",
        "\n",
        "# creating the count vectorizer model to build a matrix of terms/token counts \n",
        "cv = CountVectorizer(max_features=1500)      \n",
        "\n",
        "# feeding the corpus data to the count vectorizer model\n",
        "x = cv.fit_transform(corpus).toarray()"
      ],
      "execution_count": null,
      "outputs": []
    },
    {
      "cell_type": "markdown",
      "metadata": {
        "id": "e-REWtmM0CXd"
      },
      "source": [
        "* **Bag of Words Model:** \n",
        "\n",
        "    It is method of feature extraction from the text-preprocessed data. Describes the occurences of the words within a document, disregarding the word order and grammatical details.\n",
        "\n",
        "* **Count Vectorizer**:\n",
        "\n",
        "    The count vectorizer tool is helpful in transforming a given text into a vector on the basis of the frequency of each word that occurs in the entire text. \n",
        "\n",
        "    CountVectorizer creates a matrix in which \n",
        "* Each unique word is represented by a column of the matrix.\n",
        "* Each text sample from the document is a row in the matrix. \n",
        "* The value of each cell indicates count of the word in that particular text sample.\n",
        "\n",
        "Ex:                                                          \n",
        "```\n",
        "com_1:The selection on the menu was great and so were the prices.    \n",
        "com_2: Great food and service, huge portions and they give a military discount.                                            \n",
        "com_3: .......................\n",
        "com_4: .......................\n",
        ".\n",
        ".\n",
        ".\n",
        "com_n:........................\n",
        "```\n",
        "![Capture 1.PNG](data:image/png;base64,iVBORw0KGgoAAAANSUhEUgAAAvkAAABtCAYAAAA71H4EAAAAAXNSR0IArs4c6QAAAARnQU1BAACxjwv8YQUAAAAJcEhZcwAADsMAAA7DAcdvqGQAABoKSURBVHhe7Z3tkVw3r4Sdi4JRLAplY/BvlwLZOBSL7u0tgy+MwuGA8yWi2U8Va4ZzSB50AzxDrWTvX7//n7///hsvQgghhBBCCAJ0yBdCCCGEEIIMHfKFEEIIIYQg4y8c8HXIF0IIIYQQgoevn+SDv/76S01NTU1NTU1NTU2tafP855B/GidqXqGzPx1jZ6lH6dgbVl2ryAcOD5THOvIqh8mXqGX0Tky+Cn5OZ386xs5Sj9KxN6y6VpEPHB4oj3XkVQ6TL1HL6J2YfBX8nM7+dIydpR6lY29Yda0iHzg8UB7ryKscJl+iltE7Mfkq+Dmd/ekYO0s9SsfesOpaRT5weKA81pFXOUy+RC2jd2LyVfBzOvvTMXaWepSOvWHVtYp84PBAeawjr3KYfIlaRu/E5D+iGXM/Pz//7XGy4s+PHz++xqP9+vXr30+fT9X3ldh3oWPMGVUd3759+/3x8fFvbz9Y8hF5ly7sU9zrlc+DR2DN7woMHrxaA55ReFYxoJrPYfIlahm9E5P/iGbMtcMmHgKM/lU1vfPL3Ps+4xn5+Pnz59t0gWfEvANVHTrk/xlepQv7BGtj34D4XMAPAnY6LO2aX3gEr97Bqz14h5ZXa3j1If+d54cda36H58Kuz4J7iFpGj0lklUc0Y27HQz5i/f79+7+9OVVN+FJ/1yb1vs94Rj50yP8fKzmu6sB6OuS/n1fpWj3kv/O5kbFDfvEsjnsAnuiQX+fVGpCfZ9Vp9v2Lz95VizvUfESH/OcStYwek8gqj2jG3Mphczeyh8wVVX+e+RC8RdX3jvW8c8w65PPwLl3xkB/RIT8/5L8Thhp/tYZnfr+tfP++AoZ8vwImX6KW0Tsx+SuaMdYavpzwaodN6xv25WbNP8RtrDX/BRivxYdBdijCOB8Hxvh1/MMJ69nn8VoGxtwirul/ahOvIS5P9CmLx183XaZ3BsZVsJ8+xobPLb743oPPLJ641upPsDCnQiVm88p7itrx46OP8bpphQ7/OdqMW9cNxGZferaurxHT4LHxxsyL7PpKTjC+AnQgVrzafeCtxY/mYzb8eJ8nkK256s0Vcd4VWQy3dOEzi9Nq0XKB+EznrKb8+mi+TjEPzWrGNMe82pgZ/p4zMh9wX49ptWY6DVvDrsfxaKYh0+PvjeY9MQ/watdvaTcwtsItD+yaxWD3z7TY/LgG8NeercH7g+Y9jDWHvoF50OaBJj/eatxA7HbNe+Hn2Jp2b09c3/tkz7RYQzGGDIyr8IhXlnNcwytazCXmmP7M38w/A2PtWpx3L1iLhahl9JhEVqlqRiH5QrMCtMKPmxTjfeEbNs42I+bbuvEaiPdF3292kMUR52CTGbYJK3hNM642qb+PPZDMF+tb7ADj/TpRP97HOVdUY/ee+ocnsBgtJ34sgBaL1+aaPhDH3+KZMVtcBsb79aM2XPexomb8Gl7rLVZ0+Nitfi0m63sQo6+JmReP5iTe+4qow77gfJzo+/tijt+X8YvwGd5cEeddcY8u9M1vzEPf1xjWNDDO9wE+875gDtYwLAZ/z8wLH8cVcc4V0QfTFXXadQCPvLa4hoFxXgvAZ94DzPV902trmUd+DPpx3QyMq3DLA4sp1l/UEuPCulYf8VqcewXm3cKeBXYvj8Vu12ys99fnEjH5vs03ELf3AePNJ6wVPYrz4/oWj3lj/dmcK/ycK2x988NT8Qp9nzerFb8ePDA90d+Zfxjn18b76Oc9ID4WopbRYxJZpaI5FrHhP4ubNBaigWLMPgeYY0VvZOvGMbM4QNwEmF/dFHGtK+ImzTY18PozL/y8iu8zKrHbPXyc0GEPlKgjexhZPjJf4/hbvCJmw48x8JnFH4m1hH5VS0UHiPc3bZbfGAPwPt/y4tGc3KvDcuBBrVu9Z9dj3h71Zkacd8WqLoDr5n/UFL2v1FRcA/fKNGb3vUVlDIg+AMRguv17I8adrQEwd7Z2lmfg14u+giymjGd5cBVnZQzIamE23lMZY/sHa0Zu5SD6i3WQX4+tHfdpBGthbY/XeTUfsdi8bMyuXhm+fmx9vAI/50o/wGcxfvvM1rqXuG5nopbRYxJZpaL5qojwmRVitsFQtPjMf55tEAPj46aK9/YbxbgVB8b7h0rsz4hrXeE3KbC4I/5BlXnhN3jUbtj1W1Rjxzjz3e5p68cYfHz23q5BG/qxeV9ugfEVMK4as4HPsuZz4GvWmoH7VbX4eTOeUc+4fuXFoznB2ApRh8XhQSz2RWi6smZ5e4Y3V8R5V6zqArge82GasJb3HuOyXEAD5vnm91mm0X8eY7oC61bIcuHvgfvG64gX61u+sjVANhef2dozj2xM9BX4+GY8y4OsHkFFC8DamJ+1W1TGAMsJGuIyEJN97pvF7f31a8QGfXbd6jWCtfy9gffuan4Wg9UWyPZmRmUMsHug3euVx38ePci0Rf3AfMpaNn4FrMFC1DJ6TCKrVDRfFR0+s0129YADKH4rYP/Ai2AMit0T18X8OOZWHNmG8v0ZV5oifpMCe+BEz7z+zAs/r+L7jGrsGOcbPDQyHZaDR3y9Aveq4ONFuxUzQH78uEjMR6wl9H2OZ/h5M7Kax1zLr2nxRJ9x3Tev8dGcxHtfEXVkccNb8ze7HnmGN1e8ShfAdcuBjbdaxFq+hrKawlpeQ1wjXjdw3cbh1XyagXEVslwgBtPt3xsx7mwNgLmzteM+NPx60VeA+TGmjGd5cBVnZQzIaqFKVYMH97K4shx4or+431V93ao/rIX7ebwvV/MRq83Lxli93aIyJvKIV4bFjFdch2bDz5n5V9V4D69a908QtYwek8gqVc2+yAH6mGuFOHt4+U1t41DIAK92DeP8NRDvi/e2GQDm3orD3x9cbcKMK02RbE30/X1tg8ZYrQ8w3s+J+tGPc66oxI51Zl5YzD4niNu04b1hYyuxXfGqmEGsnQiuea+hz8eT1dYV1XG4J2rHg7nmITSgbz6bNquRqhe23ir36rD7euCt9xfXo3bPo97MiLFdca+uGJPVItby+cpqCvF7DVjbr4H+lUZ8jvX9PWbEe1+B9TDWvDdd1jcd1gdRR/TSwBjvH4ifYW3ft/td+QowPq6bgXUqVD2IZFq8D7gOHbGeV8juewvc1+LA62yN6C/mol0Rr2O+6Yprgegd5vox0Rvr+3qzfNyiMiaCeO71yoN1UAtxfpwz8w9zLZZnUvXF58Y8t9j8NRC1mne2b19F1DJ6VZFMVDXbprKG5CKZ2QMujrXPDUu0NZ9wKwpr2UPaX8d9r+IwcD+/YYDN9wWZEde6AvfI1rL7WLM4jehFjPOW7zMwvkL0HM02Le6DftyUNi5i432DxirZmhn3xAyyeTYuem258cB7uz7j1nUD60V/MNfn19cIxkOnr5OZF+CRnGBshajD7ulBnGgeHxOa1/UMb67A+Ar36ML1q1rEWljTgz7G+HWtj2YabQ3c60oj7mtzKmBsBfPBx+prDFic1mKM0UvD16f5iLne07g30cwPYLF5Yl6uwFoVbnlg3kduafGeZDqfpcHisxbzE/OHZnst8xfz43iP9yneyz63NTPv/Hw077X55J8F2d7MqIx5tleGrRtzms2p+Hd1/R6wTgXcy2I1zy03/hqATr+u+eb37iuIWkavKpKJEzWv0NmfSuzYnPHhYg+iP0HHmDPeFcurvdjJ02fCqsu+dKtfolUfUGP4gmaEwQPWen4F8iqHyZeoZfROTL4Kfk5nfyqx40sr+ylFPDi+i44xZ7yrbl7tBevzgVUXfnIW62FG1Qcd8nXIZ0Fe5TD5ErWM3onJV8HP6exPNXYcCjDWtz9Fx5gz3hnPK714p453wqwLf5NTpeqDDvk65LMgr3KYfIlaRu/E5Kvg53T2p2PsLPUoHXvDqmsV+cDhgfJYR17lMPkStYweLqipqampqampqamp9Wye/xzyT+NEzSt09qdj7Cz1KB17w6prFfnA4YHyWEde5TD5ErWM3onJV8HP6exPx9hZ6lE69oZV1yrygcMD5bGOvMph8iVqGb0Tk6+Cn9PZn46xs9SjdOwNq65V5AOHB8pjHXmVw+RL1DJ6JyZfBT+nsz8dY2epR+nYG1Zdq8gHDg+UxzryKofJl6hl9E5Mvgp+Tmd/OsbOUo/SsTesulaRDxweKI915FUOky9Ry+idmHwV/JzO/nSMnaUepWNvWHWtIh84PFAe68irHCZfopbR6y7SfqX5yi/sWNEcf+lO9Vend6azPx1jX4kZ4Dd8/sl4r1jRsfO+WtEBds1HZEUX83NPPnDUOIOGd7HiFfPej6z4sjtRy+h1FomDvRXiKw75KHY0wx4S7HT2p2PsK/fFb6DEeLTdHr4dvc9gyUeEJT+PIh84apxBw7uoesW+9yNM2qKW0esq0n6Cj9fVX71d0YwHga1v2Gcrv0K9I5396Rh7JWaABy5q3WofMe9ER+8zWPIRYcnPo8gHjhpn0PAuKl6x13xGtYY6ELWM3opIbBSMR8PG8fhraL5QcADHnw79T95tvp9z7+bDvZ99yEdRZ+NW79WRzv50jL0Ss2fXL6uO3mew5CPCkp9HkQ8cNc6g4V1UvDph70dWa2hnopbRq4pEov3BHod2O8jHa1Ysdh0Fgr6Nsc2GZhsO17DOPawWYUXziQVvdPanY+yVmD27fll19D6DJR8Rlvw8inzgqHEGDe+i4tUJez+yWkM7E7WMXkXkbHNUCgOv6HvQx1zD7nEPq0VYuc+JBW909qdj7JWYPbt+WXX0PoMlHxGW/DyKfOCocQYN76Li1Ql7P7JaQzsTtYxeReTsAI7CQBFE8JN++8k9CiSOQR9zjdk9brFahJX7nFjwRmd/OsZeidmz65dVR+8zWPIRYcnPo8gHjhpn0PAuKl6dsPcjqzW0M1HL6FVEzjZHpTDwir4Hfcw17B73sFqEK5rxakB//IyRzv50jL0Ss8fi3+3LqqP3GSz5iLDk51HkA0eNM2h4FxWv2Gs+Y7WGdiZqGb2qSByk/b+7x3tLPNbw1+zgb5up4yEfYN34v5OKOhjp7E/H2Ffr3vbKbl9WLPuKJR8Rlvw8inzgqHEGDe9CNZ9T9QWemA9WR3Z+9dcAPPPr4mz6jrqLWkavKhJgrDUIMRC8v4bmBb3ikG/jY/NxXYFxVfzazMXu6exPx9irMdvDIzbshR1ALFV8/Lvtq6qO3fMRQWxVvB6255584KhxxFGh2z59BdBbxXvEtvcjVV+OOeSzcKLmFTr70zF2lnqUjr1h1bWKfODwQHmsI69ymHyJWkbvxOSr4Od09qdj7Cz1KB17w6prFfnA4YHyWEde5TD5ErWM3o4ir/56zZr/Zz73gDXENZ396Rg7Sz1Kx96w6lpFPnB4oDzWkVc5TL5ELaOHC2pqampqampqampqPZvnP4f80zhR8wqd/ekYO0s9SsfesOpaRT5weKA81pFXOUy+RC2jd2LyVfBzOvvTMXaWepSOvWHVtYp84PBAeawjr3KYfIlaRu/E5Kvg53T2p2PsLPUoHXvDqmsV+cDhgfJYR17lMPkStYzeiclXwc/p7E/H2FnqUTr2hlXXKvKBwwPlsY68ymHyJWoZvROTr4Kf09mfjrGz1KN07A2rrlXkA4cHymMdeZXD5EvUMnonJl8FP6ezPx1jZ6lH6dgbVl2ryAcOD5THOvIqh8mXqGX0OovErxJG/NaqvzZ4VbP9f/tf/WuJd6GzPx1j7+y350Qd+JXmGG9t52fEii7A+tyTDxw1zqDhXax4BVj3fmTVl52JWkavq8iPj4+vZmAT49BfYUWz/4PEKQ+Gzv50jL1jzBmn6cAzB82wL8ZdYcnPo8gHjhpn0PAuVvQy7/0IUx1ELaPHIvLz87NclFXNeBig4FfWZqCzPx1j7+y35yQdiBnjoMGwzx79jdyvgiU/jyIfOGqcQcO7qHgF2Pd+pOpLB6KW0VsRieRjPBqKweOvoflNhZ+440/SeI3z/ZxHCgobFmtUqI4zTil4o7M/HWPv7LfnJB1Xzxs8B/3fMO4ES34eRT5w1DiDhndR8crDuvcjq77sTNQyelWR2BT+YI9DOwoBxGu2sey6He5tjBUQmhURrmGde4l/JTejqtk4peCNzv50jL2z356TdOiQ3xf5wFHjDBreRcUrD+vej6z6sjNRy+hVRM4SXtlEeI0HePQx17B73IPFUC3I1fucUvBGZ386xt7Zb89JOjoeHljy8yjygaPGGTS8i4pXHta9H1n1ZWeiltGriLSEZ2ATxQM8wE/V7Sf3rzzk2zy8Vlm9zykFb3T2p2Psnf32nKRDh/y+yAeOGmfQ8C4qXnlY935k1ZediVpGryJylvDKJnrVId/m+HUq3Hsf9oI3OvvTMfbOfntO0mGx49WAjvjZTrDk51HkA0eNM2h4FxWvPOYb296PrPqyM1HL6FVF4lDu/9093tsmwRr+mh38rUBecci38asHfLByH3BKwRud/ekYe2e/PafpwDPM/3dAj/53Ra+GJT+PIh84apxBw7tQzedUfUH9WM2YN3b29NcA6suvi/PvO7yMWkavKhJgrDV/qEfw/hqaF/SKQz6MjfdE83FdgXEVLFmxIVZmoLHCjv7g/hV2ih33rbB7PSKWCiw6gI9/94NDVRf7cw9aKjD7AB1VvPadapxBw7uoesW+9yPQVuGYQz4LJ2peobM/HWNnqUfp2BtWXavIBw4PlMc68iqHyZeoZfROTL4Kfk5nfzrGzlKP0rE3rLpWkQ8cHiiPdeRVDpMvUcvo7Sjy6q+MrN3z7/A9WENc09mfjrGz1KN07A2rrlXkA4cHymMdeZXD5EvUMnonJl8FP6ezPx1jZ6lH6dgbVl2ryAcOD5THOvIqh8mXqGX0cEFNTU1NTU1NTU1NrWfz/OeQfxonal6hsz8dY2epR+nYG1Zdq8gHDg+UxzryKofJl6hl9E5Mvgp+Tmd/OsbOUo/SsTesulaRDxweKI915FUOky9Ry+idmHwV/JzO/nSMnaUepWNvWHWtIh84PFAe68irHCZfopbROzH5Kvg5nf3pGDtLPUrH3rDqWkU+cHigPNaRVzlMvkQto3di8lXwczr70zF2lnqUjr1h1bWKfODwQHmsI69ymHyJWkbvxOSr4Od09qdj7Cz1KB17w6prFfnA4YHyWEde5TD5ErWM3onJV8HP6exPx9hZ6lE69oZV1yrygcMD5bGOvMph8iVqGb0Tk6+Cn9PZn46xs9SjdOwNq65V5AOHB8pjHXmVw+RL1DJ6JyZfBT+nsz8dY2epR+nYG1Zdq8gHDg+UxzryKofJl6hl9E5Mvgp+Tmd/OsbOUo/SsTesulaRDxweKI915FUOky9Ry+idmHwV/JzO/nSMnaUepWNvWHWtIh84PFAe68irHCZfopbROzH5Kvg5nf3pGDtLPUrH3rDqWkU+cHigPNaRVzlMvkQto3di8lXwczr70zF2lnqUjr1h1bWKfODwQHmsI69ymHyJWkbvxOSr4Od09qdj7Cz1KB17w6prFfnA4YHyWEde5TD5ErWMXlXk9+/ff3/79u3r/efn59e8nz9/fvX9NfDjx4+x7q9fv77ef3x8fPX9tT/FqzUD6EUf+rvR2Z+OsXeMOUM69n4+sOpaRT5weMCg4V3IqxwmX6KW0Xu1SAjDewgF0YA/was1g84Ph87+dIy9Y8wZ0rH384FV1yrygcMDBg3vQl7lMPkStYxeVSQTJ2peobM/HWNnqUfp2BtWXavIBw4PlMc68iqHyZeoZfROTL4Kfk5nfzrGzlKP0rE3rLpWkQ8cHiiPdeRVDpMvUcvonZh8Ffyczv50jJ2lHqVjb1h1rSIfODxQHuvIqxwmX6KW0cMFNTU1NTU1NTU1NbWezfOfQ/5pnKh5hc7+dIydpR6lY29Yda0iHzg8UB7ryKscJl+iltE7Mfkq+Dmd/ekYO0s9SsfesOpaRT5weKA81pFXOUy+RC2jd2LyVfBzOvvTMXaWepSOvWHVtYp84PBAeawjr3KYfIlaRu/E5Kvg53T2p2PsLPUoHXvDqmsV+cDhgfJYR17lMPkStYzeiclXwc/p7E/H2FnqUTr2hlXXKvKBwwPlsY68ymHyJWoZvROTr4Kf09mfjrGz1KN07A2rrlXkA4cHymMdeZXD5EvUMnonJl8FP6ezPx1jZ6lH6dgbVl2ryAcOD5THOvIqh8mXqGX0Tky+Cn5OZ386xs5Sj9KxN6y6VpEPHB4oj3XkVQ6TL1HL6J2YfBX8nM7+dIydpR6lY29Yda0iHzg8UB7ryKscJl+iltE7Mfkq+Dmd/ekYO0s9SsfesOpaRT5weKA81pFXOUy+RC2jd2LyVfBzOvvTMXaWepSOvWHVtYp84PBAeawjr3KYfIlaRu/E5Kvg53T2p2PsLPUoHXvDqmsV+cDhgfJYR17lMPkStYzeiclXwc/p7E/H2FnqUTr2hlXXKvKBwwPlsY68ymHyJWoZvROTr4Kf09mfjrGz1KN07A2rrlXkA4cHymMdeZXD5EvUMnpVkd+/f//97du3r/efn59f837+/PnV99fAjx8/xrq/fv36ev/x8fHV99f+FK/WDKAXfejvxqv9eWVNvDp28Ozcdow5Qzr2fj6w6lpFPnB4wKDhXcirHCZfopbRe7VICMN7CAXRgD/BqzWDzg+HV/vzypp4dezg2bntGHOGdOz9fGDVtYp84PCAQcO7kFc5TL5ELaNXFcnEiZpX6OxPx9hZ6lE69oZV1yrygcMD5bGOvMph8iVqGb0Tk6+Cn9PZn46xs9SjdOwNq65V5AOHB8pjHXmVw+RL1DJ6JyZfBT+nsz8dY2epR+nYG1Zdq8gHDg+UxzryKofJl6hl9HBBTU1NTU1NTU1NTa1n8+iPdUIIIYQQQhCA/xjYmg75QgghhBBCEPDPP//8++737/8DHLMR/17voPwAAAAASUVORK5CYII=)\n",
        "\n",
        "Inside CountVectorizer, the words are not stored as strings. Rather, they are given a particular index value. In our case 'discount' would have index 0, 'food' would have index 1, 'give' would have index 2 and so on. The actual representation looks like this \n",
        "\n",
        "![image.png](data:image/png;base64,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)\n",
        "\n",
        "This way of representation is known as a Sparse Matrix.\n",
        "\n",
        "The encoded document after trasforming it to an array would look like \n",
        "\n",
        "![image.png](data:image/png;base64,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)\n"
      ]
    },
    {
      "cell_type": "markdown",
      "metadata": {
        "id": "BZHLxgSr-auw"
      },
      "source": [
        "### Seperating the Target Variable"
      ]
    },
    {
      "cell_type": "code",
      "metadata": {
        "id": "zG8nto6wSYaB"
      },
      "source": [
        "#setting the target column to the variable \n",
        "y=df.iloc[:,-1].values"
      ],
      "execution_count": null,
      "outputs": []
    },
    {
      "cell_type": "code",
      "metadata": {
        "colab": {
          "base_uri": "https://localhost:8080/"
        },
        "id": "scsYBuxqSEft",
        "outputId": "3f34598c-fd16-4f7a-d1eb-799135ac59b6"
      },
      "source": [
        "#dimensions of the input feature\n",
        "print(x.shape)"
      ],
      "execution_count": null,
      "outputs": [
        {
          "output_type": "stream",
          "name": "stdout",
          "text": [
            "(1000, 1500)\n"
          ]
        }
      ]
    },
    {
      "cell_type": "markdown",
      "metadata": {
        "id": "1imN2KTO59-h"
      },
      "source": [
        "### **Split the pre-processed data into training and test sets**"
      ]
    },
    {
      "cell_type": "code",
      "metadata": {
        "id": "n4obQNZ3SGoh"
      },
      "source": [
        "#importing the train_test_split module\n",
        "from sklearn.model_selection import train_test_split\n",
        "\n",
        "#Splitting arrays or matrices into random train and test subsets\n",
        "x_train, x_test, y_train, y_test = train_test_split(x, y, test_size = 0.25, random_state = 0)"
      ],
      "execution_count": null,
      "outputs": []
    },
    {
      "cell_type": "markdown",
      "metadata": {
        "id": "pfXAV5ws6v85"
      },
      "source": [
        "### **Function to evaluate performance of the various ML Model**"
      ]
    },
    {
      "cell_type": "code",
      "metadata": {
        "id": "lJSqpF8nU82Q"
      },
      "source": [
        "#defining function to evaluate the classifier's performance \n",
        "def classifier_results(x_train, y_train, x_test, y_test, y_pred): \n",
        "  from sklearn.metrics import accuracy_score,plot_confusion_matrix  #importing confusion_matrix plot from sklearn \n",
        "  from sklearn.metrics import confusion_matrix                      #importing confusion matrix \n",
        "  matrix = confusion_matrix(y_test,y_pred)                          \n",
        "  True_Positive = matrix[0][0]                                      #Assigning true_positive from confusion_matrix\n",
        "  True_Negative = matrix[1][1]                                      #Assigning true_negative from confusion_matrix  \n",
        "  False_Positive = matrix[0][1]                                     #Assigning false_positive from confusion_matrix\n",
        "  False_Negative = matrix[1][0]                                     #Assigning true_positive from confusion_matrix\n",
        "\n",
        "\n",
        "  #calculating Accuracy from confusion matrix\n",
        "  Accuracy = (True_Positive + True_Negative)/(True_Positive + True_Negative + False_Positive + False_Negative)\n",
        "  Precison = True_Positive / (True_Positive + False_Positive)  #calculating Precision from confusion matrix \n",
        "  Recall = True_Positive / (True_Positive + False_Negative)    #calculating Recall from confusion matrix \n",
        "  F1score = (2*Precison*Recall)/(Precison+Recall)              #calculating F1 score from confusion matrix \n",
        "\n",
        "\n",
        "  print (\"****** Model successfully tested ******\")\n",
        "  print (\"******* Model Statistics ******\")\n",
        "  print(\"Training Accuracy :\", classifier.score(x_train, y_train))\n",
        "  print(\"Testing Accuracy :\", classifier.score(x_test, y_test))\n",
        "  print (\"Accuracy of Model = \",Accuracy)\n",
        "  print (\"Precison of Model = \",Precison)\n",
        "  print (\"Recall of Model   = \",Recall)\n",
        "  print (\"F1score of Model  = \",F1score)\n",
        "  print (\"****************************\")\n",
        "\n",
        "  plot_confusion_matrix(X=x_test,y_true=y_test,estimator=classifier)"
      ],
      "execution_count": null,
      "outputs": []
    },
    {
      "cell_type": "markdown",
      "metadata": {
        "id": "kRJNX6iqTm_S"
      },
      "source": [
        "**MULTINOMIAL NAIVE BAYES ALGORITHM**"
      ]
    },
    {
      "cell_type": "markdown",
      "metadata": {
        "id": "cD62EoP2IoAf"
      },
      "source": [
        "* Multinomial Naive Bayes is a probabilistic algorithm based on Bayes theorem.\n",
        "\n",
        "* Bayes theorem calculates probability P(c|x) \n",
        "\n",
        "    * where c is the class of the possible outcomes (i.e. in our case whether satisfied and unsatisfied)\n",
        "\n",
        "    * x is the given instance which has to be classified, representing certain features. (i.e. in our case indexed words of a particular sample)  \n",
        "    \n",
        "```\n",
        "    P(c|x) = P(x|c) * P(c) / P(x)\n",
        "\n",
        "        P(c|x) - is the posterior probability of class c given predicors (features). \n",
        "\n",
        "        p(c) - prior probability of class\n",
        "\n",
        "        p(x|c) - is the likelihood which is the probability of the predictor given class \n",
        "\n",
        "        p(x) - is the earlier probability of the predictor (features)\n",
        "\n",
        "```\n",
        "* Naive Bayes predicts the tag of a text. They calculate the probability of each tag for a given text and then output the tag with the highest one. "
      ]
    },
    {
      "cell_type": "code",
      "metadata": {
        "id": "MF2XMhWfSQbO"
      },
      "source": [
        "## importing Multinomial Naive Bayes classifier\n",
        "from sklearn.naive_bayes import MultinomialNB\n",
        "classifier = MultinomialNB()\n",
        "classifier.fit(x_train, y_train)    # Fitting Multinomial Naive Bayes to the Training set\n",
        "\n",
        "# predicting the test set results\n",
        "y_pred=classifier.predict(x_test)"
      ],
      "execution_count": null,
      "outputs": []
    },
    {
      "cell_type": "code",
      "metadata": {
        "colab": {
          "base_uri": "https://localhost:8080/",
          "height": 432
        },
        "id": "gGHIIT0lUr7t",
        "outputId": "31f4ca4c-8d87-453e-d1cd-3ee303ad7318"
      },
      "source": [
        "#classifier performance on test set\n",
        "classifier_results(x_train, y_train, x_test, y_test, y_pred) "
      ],
      "execution_count": null,
      "outputs": [
        {
          "output_type": "stream",
          "name": "stdout",
          "text": [
            "****** Model successfully tested ******\n",
            "******* Model Statistics ******\n",
            "Training Accuracy : 0.944\n",
            "Testing Accuracy : 0.768\n",
            "Accuracy of Model =  0.768\n",
            "Precison of Model =  0.7692307692307693\n",
            "Recall of Model   =  0.743801652892562\n",
            "F1score of Model  =  0.7563025210084033\n",
            "****************************\n"
          ]
        },
        {
          "output_type": "display_data",
          "data": {
            "image/png": "[encoded data removed]",
            "text/plain": [
              "<Figure size 432x288 with 2 Axes>"
            ]
          },
          "metadata": {
            "needs_background": "light"
          }
        }
      ]
    },
    {
      "cell_type": "markdown",
      "metadata": {
        "id": "x_d7U8Lr_rJG"
      },
      "source": [
        "**RANDOM FOREST CLASSIFIER ALGORITHM**\n"
      ]
    },
    {
      "cell_type": "markdown",
      "metadata": {
        "id": "sZIic5xZijrr"
      },
      "source": [
        "* Random forest comes in a category of ensemble models which is popularly known as **bagging**. \n",
        "\n",
        "    - The random forest takes advantage by allowing each individual tree to randomly sample from the dataset with replacement, resulting in different trees. This process is called Bagging.\n",
        "\n",
        "    - *`Note:  In bagging we are not subsetting the training data into smaller chunks and training each tree on a different chunk`*.\n",
        "\n",
        "\n",
        "* Random forest classifier creates a set of decision trees from randomly selected subset of training set. It then aggregates the votes from different decision trees to decide the final class of the test object.\n",
        "\n",
        "The random forest algorithm can be represented mathematically as:\n",
        "\n",
        "![b35ad681fe68b82e845c9fc2533f50a6.png](data:image/png;base64,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)\n",
        "\n",
        "\n",
        "```\n",
        "where\n",
        "class j - refers to the classes in the data and\n",
        "i - refers to the number of decision trees from 1 up to the ith example.\n",
        "Argmax -  refers to the maximum value of the function, in other words, the majority voting.\n",
        "```\n",
        "\n"
      ]
    },
    {
      "cell_type": "code",
      "metadata": {
        "id": "OmAijYY2TOSa"
      },
      "source": [
        "## importing Random Forest classifier\n",
        "from sklearn.ensemble import RandomForestClassifier\n",
        "classifier = RandomForestClassifier()\n",
        "classifier.fit(x_train, y_train)\n",
        "\n",
        "# predicting the test set results\n",
        "y_pred = classifier.predict(x_test)"
      ],
      "execution_count": null,
      "outputs": []
    },
    {
      "cell_type": "code",
      "metadata": {
        "colab": {
          "base_uri": "https://localhost:8080/",
          "height": 432
        },
        "id": "Zipobxx2VfKS",
        "outputId": "f881b155-a576-41fd-f9de-cb3b239529f2"
      },
      "source": [
        "#classifier performance on test set\n",
        "classifier_results(x_train, y_train, x_test, y_test, y_pred)"
      ],
      "execution_count": null,
      "outputs": [
        {
          "output_type": "stream",
          "name": "stdout",
          "text": [
            "****** Model successfully tested ******\n",
            "******* Model Statistics ******\n",
            "Training Accuracy : 0.996\n",
            "Testing Accuracy : 0.716\n",
            "Accuracy of Model =  0.716\n",
            "Precison of Model =  0.8974358974358975\n",
            "Recall of Model   =  0.6402439024390244\n",
            "F1score of Model  =  0.7473309608540926\n",
            "****************************\n"
          ]
        },
        {
          "output_type": "display_data",
          "data": {
            "image/png": "[encoded data removed]",
            "text/plain": [
              "<Figure size 432x288 with 2 Axes>"
            ]
          },
          "metadata": {
            "needs_background": "light"
          }
        }
      ]
    },
    {
      "cell_type": "markdown",
      "metadata": {
        "id": "xmUeU-XfAbDV"
      },
      "source": [
        "**SUPPORT VECTOR CLASSIFIER ALGORITHM**"
      ]
    },
    {
      "cell_type": "markdown",
      "metadata": {
        "id": "iz6j4ZIr3Rae"
      },
      "source": [
        "*   The objective here is to find a hyperplane in an N-dimensional space (N — the number of features) that distinctly classifies the data points.\n",
        "*   To separate the two classes of data points, there are many possible hyperplanes that could be chosen. Our objective is to find a plane that has the maximum margin, i.e the maximum distance between data points of both classes.\n",
        "*  Hyperplanes are decision boundaries that help classify the data points since our input features is 2 the hyperplane is just a line. \n",
        "\n",
        "* We maximize the margin between the data points and the hyperplane. The loss function that helps maximize the margin is hinge loss.\n",
        "\n",
        "![image.png](data:image/png;base64,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)\n",
        "\n",
        "* The cost is 0 if the predicted value and the actual value are of the same sign. If they are not, we then calculate the loss value. We add a regularization parameter to the cost function. The objective of the regularization parameter is to balance the margin maximization and loss. \n",
        "\n",
        "* The Regularization parameter tells the SVM optimization how much you want to avoid misclassifying each training example. \n",
        "\n",
        "    For large values - will choose a smaller-margin hyperplane\n",
        "\n",
        "    For smaller values - will cause the optimizer to look for a larger-margin separating hyperplane\n"
      ]
    },
    {
      "cell_type": "code",
      "metadata": {
        "id": "qG1SgKXAVhhK"
      },
      "source": [
        "#importing support vector classifier \n",
        "from sklearn.svm import SVC\n",
        "from sklearn.metrics import confusion_matrix\n",
        "\n",
        "classifier = SVC()\n",
        "classifier.fit(x_train, y_train)\n",
        "\n",
        "# predicting the test set results\n",
        "y_pred = classifier.predict(x_test)"
      ],
      "execution_count": null,
      "outputs": []
    },
    {
      "cell_type": "code",
      "metadata": {
        "id": "FIgr7H7uXxGU",
        "colab": {
          "base_uri": "https://localhost:8080/",
          "height": 432
        },
        "outputId": "d8a117cc-5537-4110-fb67-62b964b0cdc5"
      },
      "source": [
        "#classifier performance on test set\n",
        "classifier_results(x_train,y_train,x_test,y_test,y_pred)"
      ],
      "execution_count": null,
      "outputs": [
        {
          "output_type": "stream",
          "name": "stdout",
          "text": [
            "****** Model successfully tested ******\n",
            "******* Model Statistics ******\n",
            "Training Accuracy : 0.972\n",
            "Testing Accuracy : 0.76\n",
            "Accuracy of Model =  0.76\n",
            "Precison of Model =  0.9230769230769231\n",
            "Recall of Model   =  0.6792452830188679\n",
            "F1score of Model  =  0.7826086956521738\n",
            "****************************\n"
          ]
        },
        {
          "output_type": "display_data",
          "data": {
            "image/png": "[encoded data removed]",
            "text/plain": [
              "<Figure size 432x288 with 2 Axes>"
            ]
          },
          "metadata": {
            "needs_background": "light"
          }
        }
      ]
    },
    {
      "cell_type": "markdown",
      "metadata": {
        "id": "-0F_yX9tAjg4"
      },
      "source": [
        "**K-NEAREST NEIGHBOR CLASSIFIER ALGORITHM**"
      ]
    },
    {
      "cell_type": "markdown",
      "metadata": {
        "id": "4fXG1q1Rz2L7"
      },
      "source": [
        "* K-Nearest Neighbors being Instance based Learning and Non-Parametric Algorithm uses \"feature similarity\" technique to make classification. \n",
        "\n",
        "* In the case of our data KNN Algorithm classifies a new text sample to a category with highest frequency from the K-most similar instances (votes). \n",
        "\n",
        "* Each instance in the essence votes for their class and the class with most votes is taken as prediction. \n",
        "\n",
        "* Before we classify a test point we\n",
        "\n",
        "    * Need to initialize the value of K \n",
        "\n",
        "    * To determine which of the K-instances in the training data set is nearer to test point we use distance metrics to calculate the distance. \n",
        "\n",
        "\n"
      ]
    },
    {
      "cell_type": "code",
      "metadata": {
        "id": "weQsNfKrXkwi"
      },
      "source": [
        "## importing KNeighborsClassifier\n",
        "from sklearn.neighbors import KNeighborsClassifier\n",
        "classifier = KNeighborsClassifier()\n",
        "classifier.fit(x_train,y_train)\n",
        "\n",
        "# predicting the test set results\n",
        "y_pred = classifier.predict(x_test)"
      ],
      "execution_count": null,
      "outputs": []
    },
    {
      "cell_type": "code",
      "metadata": {
        "id": "a8jhe1gdYax6",
        "colab": {
          "base_uri": "https://localhost:8080/",
          "height": 432
        },
        "outputId": "60e33268-c47e-40a3-9fcd-24767231fabd"
      },
      "source": [
        "#classifier performance on test set\n",
        "classifier_results(x_train,y_train,x_test,y_test,y_pred)"
      ],
      "execution_count": null,
      "outputs": [
        {
          "output_type": "stream",
          "name": "stdout",
          "text": [
            "****** Model successfully tested ******\n",
            "******* Model Statistics ******\n",
            "Training Accuracy : 0.8173333333333334\n",
            "Testing Accuracy : 0.684\n",
            "Accuracy of Model =  0.684\n",
            "Precison of Model =  0.811965811965812\n",
            "Recall of Model   =  0.625\n",
            "F1score of Model  =  0.7063197026022304\n",
            "****************************\n"
          ]
        },
        {
          "output_type": "display_data",
          "data": {
            "image/png": "[encoded data removed]",
            "text/plain": [
              "<Figure size 432x288 with 2 Axes>"
            ]
          },
          "metadata": {
            "needs_background": "light"
          }
        }
      ]
    },
    {
      "cell_type": "markdown",
      "metadata": {
        "id": "JMrv1yZWDRtU"
      },
      "source": [
        "Since the dataset containes roughly equal number of samples in each class. The **accuracy metric** of the classification report could be used for deciding the right model. \n",
        "\n",
        "\n",
        "*   Accuracy of Model :  Accuracy is the ratio of the total number of correct predictions and the total number of predictions, tells Overall how often is the classifier correct? \n",
        "*   Precision of Model : Precision is the ratio between the True Positives and all the Positives, tells a how well the positive value is correctly predicted, how often is the prediction correct?\n",
        "*   Recall of Model : The recall is the measure of our model correctly identifying True Positives, tells the actual value is positive, how often is the prediction correct?\n",
        "*   F1 score of Model : F1 Score might be a better measure to use if we need to seek a balance between Precision and Recall and if there is an uneven class distribution (large number of Actual Negatives)."
      ]
    },
    {
      "cell_type": "markdown",
      "metadata": {
        "id": "1VIwrvky_I0G"
      },
      "source": [
        "![image.png](data:image/png;base64,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)"
      ]
    },
    {
      "cell_type": "markdown",
      "metadata": {
        "id": "nXDSBB0TuM2g"
      },
      "source": [
        "**Therefore Multinomial Naive Bayes Algorithm and Support Vector Classifer was better at predicting the sentiments of customer and would perform better in delivering the last mile alertness upon reaching a certain threshold levels.** \n",
        "\n",
        "\n"
      ]
    }
  ]
}